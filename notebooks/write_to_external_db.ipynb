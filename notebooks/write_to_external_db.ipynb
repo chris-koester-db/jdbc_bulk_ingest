{
 "cells": [
  {
   "cell_type": "markdown",
   "metadata": {
    "application/vnd.databricks.v1+cell": {
     "cellMetadata": {},
     "inputWidgets": {},
     "nuid": "85997386-df5e-4f03-b8da-2e54d66c97be",
     "showTitle": false,
     "title": ""
    }
   },
   "source": [
    "## Write to External Database\n",
    "This notebook can be used to write data to an external database for testing the bulk ingest solution. See the [write data with JDBC](https://learn.microsoft.com/en-us/azure/databricks/connect/external-systems/jdbc#write-data-with-jdbc) doc for more details.\n",
    "\n",
    "Databricks recommends using [secrets](https://learn.microsoft.com/en-us/azure/databricks/security/secrets/) to store your database credentials."
   ]
  },
  {
   "cell_type": "code",
   "execution_count": null,
   "metadata": {},
   "outputs": [],
   "source": [
    "dbutils.widgets.text('jdbc_url', '', 'JDBC URL')"
   ]
  },
  {
   "cell_type": "code",
   "execution_count": null,
   "metadata": {
    "application/vnd.databricks.v1+cell": {
     "cellMetadata": {
      "byteLimit": 2048000,
      "rowLimit": 10000
     },
     "inputWidgets": {},
     "nuid": "c503fa89-39cb-4a07-b41e-4567174b16c7",
     "showTitle": true,
     "title": "Config"
    }
   },
   "outputs": [],
   "source": [
    "username = dbutils.secrets.get(scope = \"chris_koester\", key = \"jdbc_user\")\n",
    "password = dbutils.secrets.get(scope = \"chris_koester\", key = \"jdbc_pwd\")\n",
    "jdbc_url = dbutils.widgets.get('jdbc_url')"
   ]
  },
  {
   "cell_type": "code",
   "execution_count": null,
   "metadata": {
    "application/vnd.databricks.v1+cell": {
     "cellMetadata": {
      "byteLimit": 2048000,
      "rowLimit": 10000
     },
     "inputWidgets": {},
     "nuid": "02a1a799-2202-4562-9cf7-d2a49b240317",
     "showTitle": true,
     "title": "Get Data"
    }
   },
   "outputs": [],
   "source": [
    "df = spark.read.table('main.chris_koester.lakefed_src')\n",
    "display(df)"
   ]
  },
  {
   "cell_type": "code",
   "execution_count": null,
   "metadata": {
    "application/vnd.databricks.v1+cell": {
     "cellMetadata": {
      "byteLimit": 2048000,
      "rowLimit": 10000
     },
     "inputWidgets": {},
     "nuid": "579fe7a0-d434-4dbd-8e72-9dd05adc21c9",
     "showTitle": true,
     "title": "Write using JDBC"
    }
   },
   "outputs": [],
   "source": [
    "(\n",
    "    df.write.format(\"jdbc\")\n",
    "    .option(\"url\", jdbc_url)\n",
    "    .option(\"dbtable\", \"partitioned_queries_src\")\n",
    "    .option(\"user\", username)\n",
    "    .option(\"password\", password)\n",
    "    .mode(\"overwrite\")\n",
    "    .save()\n",
    ")"
   ]
  },
  {
   "cell_type": "markdown",
   "metadata": {
    "application/vnd.databricks.v1+cell": {
     "cellMetadata": {},
     "inputWidgets": {},
     "nuid": "629422f4-a089-4459-b3e8-ac35cb1bccab",
     "showTitle": false,
     "title": ""
    }
   },
   "source": [
    "## Connect to External Database using Lakehouse Federation\n",
    "Follow the [documentation](https://learn.microsoft.com/en-us/azure/databricks/query-federation/) to create a connection and foreign catalog."
   ]
  }
 ],
 "metadata": {
  "application/vnd.databricks.v1+notebook": {
   "dashboards": [],
   "environmentMetadata": null,
   "language": "python",
   "notebookMetadata": {
    "mostRecentlyExecutedCommandWithImplicitDF": {
     "commandId": 2548317818345476,
     "dataframes": [
      "_sqldf"
     ]
    },
    "pythonIndentUnit": 2
   },
   "notebookName": "write_to_external_db",
   "widgets": {}
  },
  "language_info": {
   "name": "python"
  }
 },
 "nbformat": 4,
 "nbformat_minor": 0
}
