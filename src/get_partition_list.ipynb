{
 "cells": [
  {
   "cell_type": "code",
   "execution_count": null,
   "metadata": {
    "application/vnd.databricks.v1+cell": {
     "cellMetadata": {
      "byteLimit": 2048000,
      "rowLimit": 10000
     },
     "inputWidgets": {},
     "nuid": "576410b5-873a-42ef-b3c2-7887dcf36cba",
     "showTitle": false,
     "title": ""
    }
   },
   "outputs": [],
   "source": [
    "dbutils.widgets.text('src_catalog', '', '01 Source Catalog')\n",
    "dbutils.widgets.text('src_schema', '', '02 Source Schema')\n",
    "dbutils.widgets.text('src_table', '', '03 Source Table')\n",
    "dbutils.widgets.text('partition_col', '', '04 Source Partition Column')\n",
    "dbutils.widgets.text('tgt_catalog', '', '05 Target Catalog')\n",
    "dbutils.widgets.text('tgt_schema', '', '06 Target Schema')\n",
    "dbutils.widgets.text('tgt_table', '', '07 Target Table')"
   ]
  },
  {
   "cell_type": "code",
   "execution_count": null,
   "metadata": {
    "application/vnd.databricks.v1+cell": {
     "cellMetadata": {},
     "inputWidgets": {},
     "nuid": "45ab3641-09f0-476e-9c1b-1e69957ee78c",
     "showTitle": false,
     "title": ""
    }
   },
   "outputs": [],
   "source": [
    "from lakefed_ingest.main import *"
   ]
  },
  {
   "cell_type": "code",
   "execution_count": null,
   "metadata": {
    "application/vnd.databricks.v1+cell": {
     "cellMetadata": {
      "byteLimit": 2048000,
      "rowLimit": 10000
     },
     "inputWidgets": {},
     "nuid": "2357b38e-5f3e-4477-b84d-776773c8bd0d",
     "showTitle": false,
     "title": ""
    }
   },
   "outputs": [],
   "source": [
    "src_catalog = dbutils.widgets.get('src_catalog')\n",
    "src_schema = dbutils.widgets.get('src_schema')\n",
    "src_table = dbutils.widgets.get('src_table')\n",
    "partition_col = dbutils.widgets.get('partition_col')\n",
    "tgt_catalog = dbutils.widgets.get('tgt_catalog')\n",
    "tgt_schema = dbutils.widgets.get('tgt_schema')\n",
    "tgt_table = dbutils.widgets.get('tgt_table')"
   ]
  },
  {
   "cell_type": "code",
   "execution_count": null,
   "metadata": {
    "application/vnd.databricks.v1+cell": {
     "cellMetadata": {
      "byteLimit": 2048000,
      "implicitDf": true,
      "rowLimit": 10000
     },
     "inputWidgets": {},
     "nuid": "07374fa5-240c-435d-9070-2921153bfa0a",
     "showTitle": true,
     "title": "Get Table Info"
    }
   },
   "outputs": [],
   "source": [
    "partition_spec = get_partition_spec_sqlserver(\n",
    "    catalog=src_catalog,\n",
    "    schema=src_schema,\n",
    "    table=src_table,\n",
    "    partition_col=partition_col,\n",
    "    partition_size_mb=200,\n",
    ")\n",
    "\n",
    "print(partition_spec)"
   ]
  },
  {
   "cell_type": "code",
   "execution_count": null,
   "metadata": {
    "application/vnd.databricks.v1+cell": {
     "cellMetadata": {
      "byteLimit": 2048000,
      "rowLimit": 10000
     },
     "inputWidgets": {},
     "nuid": "1f102639-3067-44bb-b66d-d1beb3f718be",
     "showTitle": true,
     "title": "Get Query List"
    }
   },
   "outputs": [],
   "source": [
    "partition_list = get_partition_list(\n",
    "    partition_col,\n",
    "    **partition_spec\n",
    ")\n",
    "\n",
    "# Write partition list to table\n",
    "spark.sql(f'use catalog {tgt_catalog}')\n",
    "spark.sql(f'use schema {tgt_schema}')\n",
    "partition_list_to_table(partition_list, f'{tgt_table}_partition_list', partition_spec['num_partitions'])"
   ]
  },
  {
   "cell_type": "code",
   "execution_count": null,
   "metadata": {},
   "outputs": [],
   "source": [
    "batch_list_qry = f\"\"\"\\\n",
    "select array_agg(distinct batch_id) as batch_list\n",
    "from {tgt_table}_partition_list\n",
    "\"\"\"\n",
    "\n",
    "batch_list = spark.sql(batch_list_qry).collect()[0][0]\n",
    "batch_list.sort()\n",
    "print(f'batch_list: {batch_list}')\n",
    "\n",
    "# Assign batch list to job task value. The list can be iterated in a subsequent task.\n",
    "dbutils.jobs.taskValues.set(key=\"batch_list\", value=batch_list)"
   ]
  }
 ],
 "metadata": {
  "application/vnd.databricks.v1+notebook": {
   "dashboards": [],
   "environmentMetadata": null,
   "language": "python",
   "notebookMetadata": {
    "mostRecentlyExecutedCommandWithImplicitDF": {
     "commandId": 4165620575668529,
     "dataframes": [
      "_sqldf"
     ]
    },
    "pythonIndentUnit": 4
   },
   "notebookName": "get_query_list",
   "widgets": {}
  },
  "kernelspec": {
   "display_name": ".venv",
   "language": "python",
   "name": "python3"
  },
  "language_info": {
   "codemirror_mode": {
    "name": "ipython",
    "version": 3
   },
   "file_extension": ".py",
   "mimetype": "text/x-python",
   "name": "python",
   "nbconvert_exporter": "python",
   "pygments_lexer": "ipython3",
   "version": "3.12.3"
  }
 },
 "nbformat": 4,
 "nbformat_minor": 0
}
