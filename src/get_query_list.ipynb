{
 "cells": [
  {
   "cell_type": "code",
   "execution_count": null,
   "metadata": {
    "application/vnd.databricks.v1+cell": {
     "cellMetadata": {
      "byteLimit": 2048000,
      "rowLimit": 10000
     },
     "inputWidgets": {},
     "nuid": "576410b5-873a-42ef-b3c2-7887dcf36cba",
     "showTitle": false,
     "title": ""
    }
   },
   "outputs": [],
   "source": [
    "dbutils.widgets.text('catalog', 'main', '01 Catalog')\n",
    "dbutils.widgets.text('schema', 'chris_koester', '02 Schema')\n",
    "dbutils.widgets.text('src_table', 'partitioned_queries_src', '03 Source Table')\n",
    "dbutils.widgets.text('tgt_table', 'partitioned_queries_tgt', '04 Target Table')"
   ]
  },
  {
   "cell_type": "code",
   "execution_count": null,
   "metadata": {},
   "outputs": [],
   "source": [
    "from jdbc_bulk_ingest import main"
   ]
  },
  {
   "cell_type": "code",
   "execution_count": null,
   "metadata": {
    "application/vnd.databricks.v1+cell": {
     "cellMetadata": {
      "byteLimit": 2048000,
      "rowLimit": 10000
     },
     "inputWidgets": {},
     "nuid": "2357b38e-5f3e-4477-b84d-776773c8bd0d",
     "showTitle": false,
     "title": ""
    }
   },
   "outputs": [],
   "source": [
    "catalog = dbutils.widgets.get('catalog')\n",
    "schema = dbutils.widgets.get('schema')\n",
    "src_table = dbutils.widgets.get('src_table')\n",
    "tgt_table = dbutils.widgets.get('tgt_table')\n",
    "\n",
    "spark.sql(f'use catalog {catalog}')\n",
    "spark.sql(f'create schema if not exists {schema}')"
   ]
  },
  {
   "cell_type": "code",
   "execution_count": null,
   "metadata": {
    "application/vnd.databricks.v1+cell": {
     "cellMetadata": {
      "byteLimit": 2048000,
      "implicitDf": true,
      "rowLimit": 10000
     },
     "inputWidgets": {},
     "nuid": "07374fa5-240c-435d-9070-2921153bfa0a",
     "showTitle": true,
     "title": "Get Table Info"
    }
   },
   "outputs": [],
   "source": [
    "# Delta is used for this demo notebook.\n",
    "# Ingestion from a federated table / JDBC is the intended use case.\n",
    "\n",
    "# Get lower and upper bound values\n",
    "lower_bound = spark.sql(f'select min(customer_id) from {catalog}.{schema}.{src_table}').collect()[0][0]\n",
    "print(f'lower_bound: {lower_bound}')\n",
    "upper_bound = spark.sql(f'select max(customer_id) from {catalog}.{schema}.{src_table}').collect()[0][0]\n",
    "print(f'upper_bound: {upper_bound}')\n",
    "\n",
    "# Calculate number of 100 MiB partitions\n",
    "# Use function and calculation that is appropriate for the source database system\n",
    "table_size_in_bytes = spark.sql(f'desc detail {catalog}.{schema}.{src_table}').collect()[0]['sizeInBytes']\n",
    "numPartitions = table_size_in_bytes / 1048576 / 100\n",
    "\n",
    "# Force minimum parallelism for tables smaller than specified partition size\n",
    "numPartitions = 2 if numPartitions < 1 else numPartitions \n",
    "print(f'Number of partitions: {int(numPartitions)}')"
   ]
  },
  {
   "cell_type": "code",
   "execution_count": null,
   "metadata": {
    "application/vnd.databricks.v1+cell": {
     "cellMetadata": {
      "byteLimit": 2048000,
      "rowLimit": 10000
     },
     "inputWidgets": {},
     "nuid": "1f102639-3067-44bb-b66d-d1beb3f718be",
     "showTitle": true,
     "title": "Get Query List"
    }
   },
   "outputs": [],
   "source": [
    "partition_queries = main.generate_partition_queries(catalog, schema, src_table, 'customer_id', lower_bound, upper_bound, numPartitions)\n",
    "\n",
    "for i in partition_queries:\n",
    "    i['full_query'] = f\"insert into {catalog}.{schema}.partitioned_queries_tgt {i['src_query']}\"\n",
    "\n",
    "for i in partition_queries:\n",
    "    print(i['full_query'])\n",
    "\n",
    "# Assign query list to job task value. The list can be iterated in a subsequent task.\n",
    "dbutils.jobs.taskValues.set(key = \"partition_queries\", value = partition_queries)"
   ]
  },
  {
   "cell_type": "code",
   "execution_count": null,
   "metadata": {
    "application/vnd.databricks.v1+cell": {
     "cellMetadata": {
      "byteLimit": 2048000,
      "rowLimit": 10000
     },
     "inputWidgets": {},
     "nuid": "c781e187-bf96-48c2-b348-9d77bb88352b",
     "showTitle": true,
     "title": "Create Target Table"
    }
   },
   "outputs": [],
   "source": [
    "create_tgt_qry = f\"\"\"create or replace table {catalog}.{schema}.{tgt_table} (\n",
    "  customer_id BIGINT,\n",
    "  name STRING,\n",
    "  alias STRING,\n",
    "  payment_instrument_type STRING,\n",
    "  payment_instrument STRING,\n",
    "  email STRING,\n",
    "  email2 STRING,\n",
    "  ip_address STRING,\n",
    "  md5_payment_instrument STRING,\n",
    "  customer_notes STRING,\n",
    "  created_ts TIMESTAMP,\n",
    "  modified_ts TIMESTAMP,\n",
    "  memo STRING)\"\"\"\n",
    "\n",
    "spark.sql(create_tgt_qry)"
   ]
  }
 ],
 "metadata": {
  "application/vnd.databricks.v1+notebook": {
   "dashboards": [],
   "environmentMetadata": null,
   "language": "python",
   "notebookMetadata": {
    "mostRecentlyExecutedCommandWithImplicitDF": {
     "commandId": 4165620575668529,
     "dataframes": [
      "_sqldf"
     ]
    },
    "pythonIndentUnit": 4
   },
   "notebookName": "generate_query_list",
   "widgets": {
    "catalog": {
     "currentValue": "main",
     "nuid": "2a34baa6-9264-4a42-b423-b90a6417c553",
     "typedWidgetInfo": null,
     "widgetInfo": {
      "defaultValue": "main",
      "label": "01 Catalog",
      "name": "catalog",
      "options": {
       "autoCreated": null,
       "validationRegex": null,
       "widgetType": "text"
      },
      "widgetType": "text"
     }
    },
    "min_parallelism": {
     "currentValue": "16",
     "nuid": "f0c7cb4a-928e-442e-87b6-879b226d5f18",
     "typedWidgetInfo": null,
     "widgetInfo": {
      "defaultValue": "2",
      "label": "04 Minimum Parallelism",
      "name": "min_parallelism",
      "options": {
       "autoCreated": null,
       "validationRegex": null,
       "widgetType": "text"
      },
      "widgetType": "text"
     }
    },
    "schema": {
     "currentValue": "chris_koester",
     "nuid": "d41403a7-6f8f-41b5-ae98-22722eace796",
     "typedWidgetInfo": null,
     "widgetInfo": {
      "defaultValue": "chris_koester",
      "label": "02 Schema",
      "name": "schema",
      "options": {
       "autoCreated": null,
       "validationRegex": null,
       "widgetType": "text"
      },
      "widgetType": "text"
     }
    },
    "table": {
     "currentValue": "partitioned_queries_src",
     "nuid": "49231420-c367-4cc5-809a-2eb740dba4da",
     "typedWidgetInfo": null,
     "widgetInfo": {
      "defaultValue": "partitioned_queries_src",
      "label": "03 Table",
      "name": "table",
      "options": {
       "autoCreated": null,
       "validationRegex": null,
       "widgetType": "text"
      },
      "widgetType": "text"
     }
    }
   }
  },
  "kernelspec": {
   "display_name": ".venv",
   "language": "python",
   "name": "python3"
  },
  "language_info": {
   "codemirror_mode": {
    "name": "ipython",
    "version": 3
   },
   "file_extension": ".py",
   "mimetype": "text/x-python",
   "name": "python",
   "nbconvert_exporter": "python",
   "pygments_lexer": "ipython3",
   "version": "3.12.3"
  }
 },
 "nbformat": 4,
 "nbformat_minor": 0
}
