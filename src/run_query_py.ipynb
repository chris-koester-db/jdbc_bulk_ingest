{
 "cells": [
  {
   "cell_type": "code",
   "execution_count": null,
   "metadata": {
    "application/vnd.databricks.v1+cell": {
     "cellMetadata": {
      "byteLimit": 2048000,
      "rowLimit": 10000
     },
     "inputWidgets": {},
     "nuid": "c5378512-dfd7-4dbd-90af-bfb07c370edf",
     "showTitle": false,
     "title": ""
    }
   },
   "outputs": [],
   "source": [
    "dbutils.widgets.text('src_query', '', 'src_query')"
   ]
  },
  {
   "cell_type": "code",
   "execution_count": null,
   "metadata": {
    "application/vnd.databricks.v1+cell": {
     "cellMetadata": {
      "byteLimit": 2048000,
      "rowLimit": 10000
     },
     "inputWidgets": {},
     "nuid": "2805a02f-4590-4fd5-86ff-4b55bf5f63e1",
     "showTitle": false,
     "title": ""
    }
   },
   "outputs": [],
   "source": [
    "src_query = dbutils.widgets.get('src_query')\n",
    "insert_query = f'insert into table main.chris_koester.partitioned_queries_tgt {src_query}'\n",
    "print(insert_query)\n",
    "\n",
    "spark.sql(insert_query)"
   ]
  }
 ],
 "metadata": {
  "application/vnd.databricks.v1+notebook": {
   "dashboards": [],
   "environmentMetadata": null,
   "language": "python",
   "notebookMetadata": {
    "pythonIndentUnit": 2
   },
   "notebookName": "run_query_py",
   "widgets": {
    "src_query": {
     "currentValue": "select * from main.chris_koester.partition_queries_test where id >= 746222 and id < 761451",
     "nuid": "624bb1d2-3102-4c06-8cdf-65c2a8936e31",
     "typedWidgetInfo": null,
     "widgetInfo": {
      "defaultValue": "",
      "label": "src_query",
      "name": "src_query",
      "options": {
       "autoCreated": null,
       "validationRegex": null,
       "widgetType": "text"
      },
      "widgetType": "text"
     }
    }
   }
  },
  "language_info": {
   "name": "python"
  }
 },
 "nbformat": 4,
 "nbformat_minor": 0
}
